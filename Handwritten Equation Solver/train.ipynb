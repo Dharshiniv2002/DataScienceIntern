{
 "cells": [
  {
   "cell_type": "code",
   "execution_count": 54,
   "metadata": {},
   "outputs": [],
   "source": [
    "import pandas as pd\n",
    "import numpy as np\n",
    "import pickle"
   ]
  },
  {
   "cell_type": "code",
   "execution_count": 55,
   "metadata": {},
   "outputs": [],
   "source": [
    "try:\n",
    "    df_train = pd.read_csv('train_final.csv', index_col=False)\n",
    "except FileNotFoundError:\n",
    "    # Handle the situation where the file is not found\n",
    "    # For example, print an error message and exit the script.\n",
    "    print(\"Error: File 'train_final.csv' not found.\")\n",
    "    exit(1)\n",
    "except pd.errors.EmptyDataError:\n",
    "    # Handle the situation where the file is empty\n",
    "    # For example, print an error message and exit the script.\n",
    "    print(\"Error: File 'train_final.csv' is empty.\")\n",
    "    exit(1)"
   ]
  },
  {
   "cell_type": "code",
   "execution_count": 56,
   "metadata": {},
   "outputs": [],
   "source": [
    "X=df_train.drop(columns=['784']).values\n",
    "y=df_train['784'].values"
   ]
  },
  {
   "cell_type": "code",
   "execution_count": 57,
   "metadata": {},
   "outputs": [],
   "source": [
    "# Check if X contains numerical data\n",
    "if not np.issubdtype(X.dtype, np.number):\n",
    "    # Handle the situation where X does not contain numerical data\n",
    "    # For example, you could print an error message and exit the script.\n",
    "    print(\"Error: X does not contain numerical data.\")\n",
    "    exit(1)"
   ]
  },
  {
   "cell_type": "code",
   "execution_count": 58,
   "metadata": {},
   "outputs": [],
   "source": [
    "X= X.astype('float32')/255.0"
   ]
  },
  {
   "cell_type": "code",
   "execution_count": 59,
   "metadata": {},
   "outputs": [],
   "source": [
    "X = X.reshape(-1,28,28,1)"
   ]
  },
  {
   "cell_type": "code",
   "execution_count": 60,
   "metadata": {},
   "outputs": [],
   "source": [
    "from keras.utils.np_utils import to_categorical\n",
    "y_cat = to_categorical(y, num_classes=13)"
   ]
  },
  {
   "cell_type": "code",
   "execution_count": 61,
   "metadata": {},
   "outputs": [],
   "source": [
    "np.random.seed(1212)\n",
    "import keras\n",
    "from keras.models import Model\n",
    "from keras.layers import *\n",
    "from keras import optimizers\n",
    "from keras.layers import Input, Dense\n",
    "from keras.models import Sequential\n",
    "from keras.layers import Dense\n",
    "from keras.layers import Dropout\n",
    "from keras.layers import Flatten\n",
    "from keras.layers.convolutional import Conv2D\n",
    "from keras.layers.convolutional import MaxPooling2D\n",
    "from keras.utils import np_utils\n",
    "from keras import backend as K"
   ]
  },
  {
   "cell_type": "code",
   "execution_count": 62,
   "metadata": {},
   "outputs": [],
   "source": [
    "np.random.seed(7)"
   ]
  },
  {
   "cell_type": "code",
   "execution_count": 63,
   "metadata": {},
   "outputs": [],
   "source": [
    "model = Sequential()\n",
    "model.add(Conv2D(30, (5, 5), input_shape=(28, 28, 1), activation='relu'))\n",
    "model.add(MaxPooling2D(pool_size=(2, 2)))\n",
    "model.add(Conv2D(15, (3, 3), activation='relu'))\n",
    "model.add(MaxPooling2D(pool_size=(2, 2)))\n",
    "model.add(Dropout(0.2))\n",
    "model.add(Flatten())\n",
    "model.add(Dense(128, activation='relu'))\n",
    "model.add(Dense(50, activation='relu'))\n",
    "model.add(Dense(13, activation='softmax'))\n",
    "# Compile model\n",
    "model.compile(loss='categorical_crossentropy', optimizer='adam', metrics=['accuracy'])"
   ]
  },
  {
   "cell_type": "code",
   "execution_count": 64,
   "metadata": {},
   "outputs": [
    {
     "name": "stdout",
     "output_type": "stream",
     "text": [
      "Model: \"sequential_4\"\n",
      "_________________________________________________________________\n",
      " Layer (type)                Output Shape              Param #   \n",
      "=================================================================\n",
      " conv2d_7 (Conv2D)           (None, 24, 24, 30)        780       \n",
      "                                                                 \n",
      " max_pooling2d_6 (MaxPooling  (None, 12, 12, 30)       0         \n",
      " 2D)                                                             \n",
      "                                                                 \n",
      " conv2d_8 (Conv2D)           (None, 10, 10, 15)        4065      \n",
      "                                                                 \n",
      " max_pooling2d_7 (MaxPooling  (None, 5, 5, 15)         0         \n",
      " 2D)                                                             \n",
      "                                                                 \n",
      " dropout_3 (Dropout)         (None, 5, 5, 15)          0         \n",
      "                                                                 \n",
      " flatten_3 (Flatten)         (None, 375)               0         \n",
      "                                                                 \n",
      " dense_9 (Dense)             (None, 128)               48128     \n",
      "                                                                 \n",
      " dense_10 (Dense)            (None, 50)                6450      \n",
      "                                                                 \n",
      " dense_11 (Dense)            (None, 13)                663       \n",
      "                                                                 \n",
      "=================================================================\n",
      "Total params: 60,086\n",
      "Trainable params: 60,086\n",
      "Non-trainable params: 0\n",
      "_________________________________________________________________\n"
     ]
    }
   ],
   "source": [
    "model.summary()"
   ]
  },
  {
   "cell_type": "code",
   "execution_count": 65,
   "metadata": {},
   "outputs": [],
   "source": [
    "from keras.models import model_from_json"
   ]
  },
  {
   "cell_type": "code",
   "execution_count": 66,
   "metadata": {},
   "outputs": [
    {
     "name": "stdout",
     "output_type": "stream",
     "text": [
      "Epoch 1/10\n",
      "3916/3916 [==============================] - 98s 24ms/step - loss: 0.0826 - accuracy: 0.9764 - val_loss: 14.8144 - val_accuracy: 0.1345\n",
      "Epoch 2/10\n",
      "3916/3916 [==============================] - 100s 26ms/step - loss: 0.0257 - accuracy: 0.9933 - val_loss: 14.2772 - val_accuracy: 0.1362\n",
      "Epoch 3/10\n",
      "3916/3916 [==============================] - 101s 26ms/step - loss: 0.0180 - accuracy: 0.9954 - val_loss: 18.0250 - val_accuracy: 0.1367\n",
      "Epoch 4/10\n",
      "3916/3916 [==============================] - 104s 27ms/step - loss: 0.0145 - accuracy: 0.9963 - val_loss: 19.1071 - val_accuracy: 0.1369\n",
      "Epoch 5/10\n",
      "3916/3916 [==============================] - 99s 25ms/step - loss: 0.0114 - accuracy: 0.9971 - val_loss: 20.0645 - val_accuracy: 0.1366\n",
      "Epoch 6/10\n",
      "3916/3916 [==============================] - 113s 29ms/step - loss: 0.0092 - accuracy: 0.9977 - val_loss: 23.6125 - val_accuracy: 0.1369\n",
      "Epoch 7/10\n",
      "3916/3916 [==============================] - 124s 32ms/step - loss: 0.0080 - accuracy: 0.9979 - val_loss: 23.2896 - val_accuracy: 0.1369\n",
      "Epoch 8/10\n",
      "3916/3916 [==============================] - 97s 25ms/step - loss: 0.0074 - accuracy: 0.9981 - val_loss: 27.5567 - val_accuracy: 0.1370\n",
      "Epoch 9/10\n",
      "3916/3916 [==============================] - 101s 26ms/step - loss: 0.0072 - accuracy: 0.9981 - val_loss: 28.4897 - val_accuracy: 0.1371\n",
      "Epoch 10/10\n",
      "3916/3916 [==============================] - 101s 26ms/step - loss: 0.0059 - accuracy: 0.9984 - val_loss: 26.2084 - val_accuracy: 0.1371\n"
     ]
    },
    {
     "data": {
      "text/plain": [
       "<keras.callbacks.History at 0x25d0422d790>"
      ]
     },
     "execution_count": 66,
     "metadata": {},
     "output_type": "execute_result"
    }
   ],
   "source": [
    "model.fit(X, y_cat, epochs=10, batch_size=32,validation_split=0.2)"
   ]
  },
  {
   "cell_type": "code",
   "execution_count": 67,
   "metadata": {},
   "outputs": [],
   "source": [
    "model_json = model.to_json()\n",
    "with open(\"model_final.json\", \"w\") as json_file:\n",
    "    json_file.write(model_json)\n",
    "# serialize weights to HDF5\n",
    "model.save_weights(\"model_final.h5\")"
   ]
  }
 ],
 "metadata": {
  "kernelspec": {
   "display_name": "base",
   "language": "python",
   "name": "python3"
  },
  "language_info": {
   "codemirror_mode": {
    "name": "ipython",
    "version": 3
   },
   "file_extension": ".py",
   "mimetype": "text/x-python",
   "name": "python",
   "nbconvert_exporter": "python",
   "pygments_lexer": "ipython3",
   "version": "3.9.13"
  },
  "orig_nbformat": 4
 },
 "nbformat": 4,
 "nbformat_minor": 2
}
